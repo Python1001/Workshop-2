{
 "cells": [
  {
   "cell_type": "code",
   "execution_count": 1,
   "metadata": {
    "collapsed": true
   },
   "outputs": [],
   "source": [
    "from datetime import datetime\n",
    "import pandas_datareader.data as wb\n",
    "\n",
    "stocklist = ['AAPL','GOOG','FB','AMZN','COP']\n",
    "\n",
    "start = datetime(2016,6,8)\n",
    "end = datetime(2016,6,10)\n",
    "\n",
    "p = wb.DataReader(stocklist, 'google',start,end)"
   ]
  },
  {
   "cell_type": "code",
   "execution_count": 2,
   "metadata": {},
   "outputs": [
    {
     "data": {
      "text/plain": [
       "[Index(['Open', 'High', 'Low', 'Close', 'Volume'], dtype='object'),\n",
       " DatetimeIndex(['2016-06-08', '2016-06-09', '2016-06-10'], dtype='datetime64[ns]', name='Date', freq='D'),\n",
       " Index(['AAPL', 'AMZN', 'COP', 'FB', 'GOOG'], dtype='object')]"
      ]
     },
     "execution_count": 2,
     "metadata": {},
     "output_type": "execute_result"
    }
   ],
   "source": [
    "p.axes #show what you have captured"
   ]
  },
  {
   "cell_type": "code",
   "execution_count": 3,
   "metadata": {},
   "outputs": [
    {
     "data": {
      "text/plain": [
       "Index(['Open', 'High', 'Low', 'Close', 'Volume'], dtype='object')"
      ]
     },
     "execution_count": 3,
     "metadata": {},
     "output_type": "execute_result"
    }
   ],
   "source": [
    "p.keys()"
   ]
  },
  {
   "cell_type": "code",
   "execution_count": 4,
   "metadata": {},
   "outputs": [
    {
     "data": {
      "text/html": [
       "<div>\n",
       "<style>\n",
       "    .dataframe thead tr:only-child th {\n",
       "        text-align: right;\n",
       "    }\n",
       "\n",
       "    .dataframe thead th {\n",
       "        text-align: left;\n",
       "    }\n",
       "\n",
       "    .dataframe tbody tr th {\n",
       "        vertical-align: top;\n",
       "    }\n",
       "</style>\n",
       "<table border=\"1\" class=\"dataframe\">\n",
       "  <thead>\n",
       "    <tr style=\"text-align: right;\">\n",
       "      <th></th>\n",
       "      <th>AAPL</th>\n",
       "      <th>AMZN</th>\n",
       "      <th>COP</th>\n",
       "      <th>FB</th>\n",
       "      <th>GOOG</th>\n",
       "    </tr>\n",
       "    <tr>\n",
       "      <th>Date</th>\n",
       "      <th></th>\n",
       "      <th></th>\n",
       "      <th></th>\n",
       "      <th></th>\n",
       "      <th></th>\n",
       "    </tr>\n",
       "  </thead>\n",
       "  <tbody>\n",
       "    <tr>\n",
       "      <th>2016-06-08</th>\n",
       "      <td>98.94</td>\n",
       "      <td>726.64</td>\n",
       "      <td>47.49</td>\n",
       "      <td>118.39</td>\n",
       "      <td>728.28</td>\n",
       "    </tr>\n",
       "    <tr>\n",
       "      <th>2016-06-09</th>\n",
       "      <td>99.65</td>\n",
       "      <td>727.65</td>\n",
       "      <td>46.57</td>\n",
       "      <td>118.56</td>\n",
       "      <td>728.58</td>\n",
       "    </tr>\n",
       "    <tr>\n",
       "      <th>2016-06-10</th>\n",
       "      <td>98.83</td>\n",
       "      <td>717.91</td>\n",
       "      <td>44.51</td>\n",
       "      <td>116.62</td>\n",
       "      <td>719.41</td>\n",
       "    </tr>\n",
       "  </tbody>\n",
       "</table>\n",
       "</div>"
      ],
      "text/plain": [
       "             AAPL    AMZN    COP      FB    GOOG\n",
       "Date                                            \n",
       "2016-06-08  98.94  726.64  47.49  118.39  728.28\n",
       "2016-06-09  99.65  727.65  46.57  118.56  728.58\n",
       "2016-06-10  98.83  717.91  44.51  116.62  719.41"
      ]
     },
     "execution_count": 4,
     "metadata": {},
     "output_type": "execute_result"
    }
   ],
   "source": [
    " p['Close']"
   ]
  },
  {
   "cell_type": "code",
   "execution_count": 5,
   "metadata": {},
   "outputs": [
    {
     "data": {
      "text/html": [
       "<div>\n",
       "<style>\n",
       "    .dataframe thead tr:only-child th {\n",
       "        text-align: right;\n",
       "    }\n",
       "\n",
       "    .dataframe thead th {\n",
       "        text-align: left;\n",
       "    }\n",
       "\n",
       "    .dataframe tbody tr th {\n",
       "        vertical-align: top;\n",
       "    }\n",
       "</style>\n",
       "<table border=\"1\" class=\"dataframe\">\n",
       "  <thead>\n",
       "    <tr style=\"text-align: right;\">\n",
       "      <th></th>\n",
       "      <th>AAPL</th>\n",
       "      <th>AMZN</th>\n",
       "      <th>COP</th>\n",
       "      <th>FB</th>\n",
       "      <th>GOOG</th>\n",
       "    </tr>\n",
       "    <tr>\n",
       "      <th>Date</th>\n",
       "      <th></th>\n",
       "      <th></th>\n",
       "      <th></th>\n",
       "      <th></th>\n",
       "      <th></th>\n",
       "    </tr>\n",
       "  </thead>\n",
       "  <tbody>\n",
       "    <tr>\n",
       "      <th>2016-06-08</th>\n",
       "      <td>20848131.0</td>\n",
       "      <td>2223366.0</td>\n",
       "      <td>9641001.0</td>\n",
       "      <td>14505596.0</td>\n",
       "      <td>1583701.0</td>\n",
       "    </tr>\n",
       "    <tr>\n",
       "      <th>2016-06-09</th>\n",
       "      <td>26601354.0</td>\n",
       "      <td>2170318.0</td>\n",
       "      <td>5425117.0</td>\n",
       "      <td>13859240.0</td>\n",
       "      <td>988914.0</td>\n",
       "    </tr>\n",
       "    <tr>\n",
       "      <th>2016-06-10</th>\n",
       "      <td>31712936.0</td>\n",
       "      <td>3425718.0</td>\n",
       "      <td>9008304.0</td>\n",
       "      <td>18510826.0</td>\n",
       "      <td>1216443.0</td>\n",
       "    </tr>\n",
       "  </tbody>\n",
       "</table>\n",
       "</div>"
      ],
      "text/plain": [
       "                  AAPL       AMZN        COP          FB       GOOG\n",
       "Date                                                               \n",
       "2016-06-08  20848131.0  2223366.0  9641001.0  14505596.0  1583701.0\n",
       "2016-06-09  26601354.0  2170318.0  5425117.0  13859240.0   988914.0\n",
       "2016-06-10  31712936.0  3425718.0  9008304.0  18510826.0  1216443.0"
      ]
     },
     "execution_count": 5,
     "metadata": {},
     "output_type": "execute_result"
    }
   ],
   "source": [
    "p['Volume']"
   ]
  },
  {
   "cell_type": "code",
   "execution_count": 6,
   "metadata": {},
   "outputs": [
    {
     "data": {
      "text/html": [
       "<div>\n",
       "<style>\n",
       "    .dataframe thead tr:only-child th {\n",
       "        text-align: right;\n",
       "    }\n",
       "\n",
       "    .dataframe thead th {\n",
       "        text-align: left;\n",
       "    }\n",
       "\n",
       "    .dataframe tbody tr th {\n",
       "        vertical-align: top;\n",
       "    }\n",
       "</style>\n",
       "<table border=\"1\" class=\"dataframe\">\n",
       "  <thead>\n",
       "    <tr style=\"text-align: right;\">\n",
       "      <th></th>\n",
       "      <th>Open</th>\n",
       "      <th>High</th>\n",
       "      <th>Low</th>\n",
       "      <th>Close</th>\n",
       "      <th>Volume</th>\n",
       "    </tr>\n",
       "    <tr>\n",
       "      <th>Date</th>\n",
       "      <th></th>\n",
       "      <th></th>\n",
       "      <th></th>\n",
       "      <th></th>\n",
       "      <th></th>\n",
       "    </tr>\n",
       "  </thead>\n",
       "  <tbody>\n",
       "    <tr>\n",
       "      <th>2016-06-08</th>\n",
       "      <td>99.02</td>\n",
       "      <td>99.56</td>\n",
       "      <td>98.68</td>\n",
       "      <td>98.94</td>\n",
       "      <td>20848131.0</td>\n",
       "    </tr>\n",
       "    <tr>\n",
       "      <th>2016-06-09</th>\n",
       "      <td>98.50</td>\n",
       "      <td>99.99</td>\n",
       "      <td>98.46</td>\n",
       "      <td>99.65</td>\n",
       "      <td>26601354.0</td>\n",
       "    </tr>\n",
       "    <tr>\n",
       "      <th>2016-06-10</th>\n",
       "      <td>98.53</td>\n",
       "      <td>99.35</td>\n",
       "      <td>98.48</td>\n",
       "      <td>98.83</td>\n",
       "      <td>31712936.0</td>\n",
       "    </tr>\n",
       "  </tbody>\n",
       "</table>\n",
       "</div>"
      ],
      "text/plain": [
       "             Open   High    Low  Close      Volume\n",
       "Date                                              \n",
       "2016-06-08  99.02  99.56  98.68  98.94  20848131.0\n",
       "2016-06-09  98.50  99.99  98.46  99.65  26601354.0\n",
       "2016-06-10  98.53  99.35  98.48  98.83  31712936.0"
      ]
     },
     "execution_count": 6,
     "metadata": {},
     "output_type": "execute_result"
    }
   ],
   "source": [
    "p[:,:,'AAPL']"
   ]
  },
  {
   "cell_type": "code",
   "execution_count": 7,
   "metadata": {},
   "outputs": [
    {
     "data": {
      "text/html": [
       "<div>\n",
       "<style>\n",
       "    .dataframe thead tr:only-child th {\n",
       "        text-align: right;\n",
       "    }\n",
       "\n",
       "    .dataframe thead th {\n",
       "        text-align: left;\n",
       "    }\n",
       "\n",
       "    .dataframe tbody tr th {\n",
       "        vertical-align: top;\n",
       "    }\n",
       "</style>\n",
       "<table border=\"1\" class=\"dataframe\">\n",
       "  <thead>\n",
       "    <tr style=\"text-align: right;\">\n",
       "      <th></th>\n",
       "      <th>Open</th>\n",
       "      <th>High</th>\n",
       "      <th>Low</th>\n",
       "      <th>Close</th>\n",
       "      <th>Volume</th>\n",
       "    </tr>\n",
       "  </thead>\n",
       "  <tbody>\n",
       "    <tr>\n",
       "      <th>AAPL</th>\n",
       "      <td>98.53</td>\n",
       "      <td>99.35</td>\n",
       "      <td>98.48</td>\n",
       "      <td>98.83</td>\n",
       "      <td>31712936.0</td>\n",
       "    </tr>\n",
       "    <tr>\n",
       "      <th>AMZN</th>\n",
       "      <td>722.35</td>\n",
       "      <td>724.98</td>\n",
       "      <td>714.21</td>\n",
       "      <td>717.91</td>\n",
       "      <td>3425718.0</td>\n",
       "    </tr>\n",
       "    <tr>\n",
       "      <th>COP</th>\n",
       "      <td>45.90</td>\n",
       "      <td>46.12</td>\n",
       "      <td>44.26</td>\n",
       "      <td>44.51</td>\n",
       "      <td>9008304.0</td>\n",
       "    </tr>\n",
       "    <tr>\n",
       "      <th>FB</th>\n",
       "      <td>117.54</td>\n",
       "      <td>118.11</td>\n",
       "      <td>116.26</td>\n",
       "      <td>116.62</td>\n",
       "      <td>18510826.0</td>\n",
       "    </tr>\n",
       "    <tr>\n",
       "      <th>GOOG</th>\n",
       "      <td>719.47</td>\n",
       "      <td>725.89</td>\n",
       "      <td>716.43</td>\n",
       "      <td>719.41</td>\n",
       "      <td>1216443.0</td>\n",
       "    </tr>\n",
       "  </tbody>\n",
       "</table>\n",
       "</div>"
      ],
      "text/plain": [
       "        Open    High     Low   Close      Volume\n",
       "AAPL   98.53   99.35   98.48   98.83  31712936.0\n",
       "AMZN  722.35  724.98  714.21  717.91   3425718.0\n",
       "COP    45.90   46.12   44.26   44.51   9008304.0\n",
       "FB    117.54  118.11  116.26  116.62  18510826.0\n",
       "GOOG  719.47  725.89  716.43  719.41   1216443.0"
      ]
     },
     "execution_count": 7,
     "metadata": {},
     "output_type": "execute_result"
    }
   ],
   "source": [
    "p[:,'2016-06-10']"
   ]
  },
  {
   "cell_type": "code",
   "execution_count": null,
   "metadata": {
    "collapsed": true
   },
   "outputs": [],
   "source": []
  }
 ],
 "metadata": {
  "kernelspec": {
   "display_name": "Python 3",
   "language": "python",
   "name": "python3"
  },
  "language_info": {
   "codemirror_mode": {
    "name": "ipython",
    "version": 3
   },
   "file_extension": ".py",
   "mimetype": "text/x-python",
   "name": "python",
   "nbconvert_exporter": "python",
   "pygments_lexer": "ipython3",
   "version": "3.6.1"
  }
 },
 "nbformat": 4,
 "nbformat_minor": 2
}
