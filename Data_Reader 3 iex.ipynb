{
 "cells": [
  {
   "cell_type": "code",
   "execution_count": 3,
   "metadata": {},
   "outputs": [
    {
     "name": "stdout",
     "output_type": "stream",
     "text": [
      "5y\n"
     ]
    }
   ],
   "source": [
    "from datetime import datetime\n",
    "import pandas_datareader.data as wb\n",
    "\n",
    "stocklist = ['AAPL','GOOG','FB','AMZN','COP']\n",
    "\n",
    "start = datetime(2016,6,8)\n",
    "end = datetime(2016,6,10)\n",
    "\n",
    "p = wb.DataReader(stocklist, 'iex',start,end)"
   ]
  },
  {
   "cell_type": "code",
   "execution_count": 4,
   "metadata": {},
   "outputs": [
    {
     "data": {
      "text/plain": [
       "{'AAPL':                open     high      low    close    volume\n",
       " date                                                    \n",
       " 2016-06-08  95.3377  95.8576  95.0104  95.2607  20848131\n",
       " 2016-06-09  94.8371  96.2716  94.7985  95.9443  26601354\n",
       " 2016-06-10  94.8659  95.6513  94.8178  95.1548  31712936,\n",
       " 'AMZN':               open    high     low   close   volume\n",
       " date                                               \n",
       " 2016-06-08  726.40  729.42  721.60  726.64  2223366\n",
       " 2016-06-09  723.10  728.91  722.30  727.65  2170318\n",
       " 2016-06-10  722.35  724.98  714.21  717.91  3425718,\n",
       " 'COP':                open     high      low    close   volume\n",
       " date                                                   \n",
       " 2016-06-08  45.7185  46.1952  45.2322  45.2799  9641001\n",
       " 2016-06-09  44.5457  44.9462  44.3836  44.4027  5425117\n",
       " 2016-06-10  43.7639  43.9737  42.2002  42.4386  9008304,\n",
       " 'FB':               open    high     low   close    volume\n",
       " date                                                \n",
       " 2016-06-08  117.76  118.60  117.27  118.39  14505596\n",
       " 2016-06-09  118.13  118.68  117.71  118.56  13859240\n",
       " 2016-06-10  117.54  118.11  116.26  116.62  18510826,\n",
       " 'GOOG':               open    high       low   close   volume\n",
       " date                                                 \n",
       " 2016-06-08  723.96  728.57  720.5800  728.28  1583701\n",
       " 2016-06-09  722.87  729.54  722.3361  728.58   988914\n",
       " 2016-06-10  719.47  725.89  716.4300  719.41  1216443}"
      ]
     },
     "execution_count": 4,
     "metadata": {},
     "output_type": "execute_result"
    }
   ],
   "source": [
    "p #show what you have captured"
   ]
  },
  {
   "cell_type": "code",
   "execution_count": 5,
   "metadata": {},
   "outputs": [
    {
     "data": {
      "text/plain": [
       "dict_keys(['AAPL', 'GOOG', 'FB', 'AMZN', 'COP'])"
      ]
     },
     "execution_count": 5,
     "metadata": {},
     "output_type": "execute_result"
    }
   ],
   "source": [
    "p.keys()"
   ]
  },
  {
   "cell_type": "code",
   "execution_count": 6,
   "metadata": {},
   "outputs": [
    {
     "name": "stdout",
     "output_type": "stream",
     "text": [
      "None\n"
     ]
    }
   ],
   "source": [
    " print(p.get(1))"
   ]
  },
  {
   "cell_type": "code",
   "execution_count": 7,
   "metadata": {},
   "outputs": [
    {
     "data": {
      "text/plain": [
       "dict_items([('AAPL',                open     high      low    close    volume\n",
       "date                                                    \n",
       "2016-06-08  95.3377  95.8576  95.0104  95.2607  20848131\n",
       "2016-06-09  94.8371  96.2716  94.7985  95.9443  26601354\n",
       "2016-06-10  94.8659  95.6513  94.8178  95.1548  31712936), ('GOOG',               open    high       low   close   volume\n",
       "date                                                 \n",
       "2016-06-08  723.96  728.57  720.5800  728.28  1583701\n",
       "2016-06-09  722.87  729.54  722.3361  728.58   988914\n",
       "2016-06-10  719.47  725.89  716.4300  719.41  1216443), ('FB',               open    high     low   close    volume\n",
       "date                                                \n",
       "2016-06-08  117.76  118.60  117.27  118.39  14505596\n",
       "2016-06-09  118.13  118.68  117.71  118.56  13859240\n",
       "2016-06-10  117.54  118.11  116.26  116.62  18510826), ('AMZN',               open    high     low   close   volume\n",
       "date                                               \n",
       "2016-06-08  726.40  729.42  721.60  726.64  2223366\n",
       "2016-06-09  723.10  728.91  722.30  727.65  2170318\n",
       "2016-06-10  722.35  724.98  714.21  717.91  3425718), ('COP',                open     high      low    close   volume\n",
       "date                                                   \n",
       "2016-06-08  45.7185  46.1952  45.2322  45.2799  9641001\n",
       "2016-06-09  44.5457  44.9462  44.3836  44.4027  5425117\n",
       "2016-06-10  43.7639  43.9737  42.2002  42.4386  9008304)])"
      ]
     },
     "execution_count": 7,
     "metadata": {},
     "output_type": "execute_result"
    }
   ],
   "source": [
    "p.items()"
   ]
  },
  {
   "cell_type": "code",
   "execution_count": 15,
   "metadata": {},
   "outputs": [
    {
     "data": {
      "text/plain": [
       "<function dict.values>"
      ]
     },
     "execution_count": 15,
     "metadata": {},
     "output_type": "execute_result"
    }
   ],
   "source": [
    "p.values"
   ]
  },
  {
   "cell_type": "code",
   "execution_count": 16,
   "metadata": {},
   "outputs": [
    {
     "data": {
      "text/plain": [
       "<function dict.items>"
      ]
     },
     "execution_count": 16,
     "metadata": {},
     "output_type": "execute_result"
    }
   ],
   "source": [
    " p.items"
   ]
  },
  {
   "cell_type": "code",
   "execution_count": null,
   "metadata": {
    "collapsed": true
   },
   "outputs": [],
   "source": []
  }
 ],
 "metadata": {
  "kernelspec": {
   "display_name": "Python 3",
   "language": "python",
   "name": "python3"
  },
  "language_info": {
   "codemirror_mode": {
    "name": "ipython",
    "version": 3
   },
   "file_extension": ".py",
   "mimetype": "text/x-python",
   "name": "python",
   "nbconvert_exporter": "python",
   "pygments_lexer": "ipython3",
   "version": "3.6.1"
  }
 },
 "nbformat": 4,
 "nbformat_minor": 2
}
