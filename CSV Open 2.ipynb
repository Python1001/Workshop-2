{
 "cells": [
  {
   "cell_type": "markdown",
   "metadata": {},
   "source": [
    "# Open CSV file - Method 2"
   ]
  },
  {
   "cell_type": "code",
   "execution_count": 1,
   "metadata": {
    "collapsed": true
   },
   "outputs": [],
   "source": [
    "import csv"
   ]
  },
  {
   "cell_type": "code",
   "execution_count": 2,
   "metadata": {},
   "outputs": [
    {
     "name": "stdout",
     "output_type": "stream",
     "text": [
      "['2/1/2013', '64.86']\n",
      "['3/1/2013', '64.94']\n",
      "['4/1/2013', '63.93']\n",
      "['7/1/2013', '64.75']\n",
      "['8/1/2013', '64.51']\n",
      "['9/1/2013', '64.44']\n",
      "['10/1/2013', '64.82']\n",
      "['11/1/2013', '65.37']\n",
      "['14/1/2013', '65.99']\n",
      "['15/1/2013', '65.37']\n",
      "['16/1/2013', '65.6']\n",
      "['17/1/2013', '66.23']\n",
      "['18/1/2013', '66.5']\n"
     ]
    }
   ],
   "source": [
    "with open('Text.csv') as csvfile:\n",
    "    readCSV = csv.reader(csvfile, delimiter=',') #delimiter\n",
    "    for row in readCSV:\n",
    "        print(row)"
   ]
  },
  {
   "cell_type": "code",
   "execution_count": null,
   "metadata": {
    "collapsed": true
   },
   "outputs": [],
   "source": []
  }
 ],
 "metadata": {
  "kernelspec": {
   "display_name": "Python 3",
   "language": "python",
   "name": "python3"
  },
  "language_info": {
   "codemirror_mode": {
    "name": "ipython",
    "version": 3
   },
   "file_extension": ".py",
   "mimetype": "text/x-python",
   "name": "python",
   "nbconvert_exporter": "python",
   "pygments_lexer": "ipython3",
   "version": "3.6.1"
  }
 },
 "nbformat": 4,
 "nbformat_minor": 2
}
