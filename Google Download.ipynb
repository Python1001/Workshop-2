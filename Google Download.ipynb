{
 "cells": [
  {
   "cell_type": "code",
   "execution_count": 1,
   "metadata": {
    "collapsed": true
   },
   "outputs": [],
   "source": [
    "from pandas import *\n",
    "import pandas_datareader as web\n",
    "from datetime import datetime, date, timedelta\n",
    "#draw graph\n",
    "import matplotlib.pyplot as plt\n",
    "#display graph\n",
    "%matplotlib inline"
   ]
  },
  {
   "cell_type": "code",
   "execution_count": 2,
   "metadata": {},
   "outputs": [
    {
     "name": "stdout",
     "output_type": "stream",
     "text": [
      "              Open    High     Low   Close    Volume\n",
      "Date                                                \n",
      "2016-12-16  116.47  116.50  115.64  115.97  44351134\n",
      "2016-12-19  115.80  117.38  115.75  116.64  27779423\n",
      "2016-12-20  116.74  117.50  116.68  116.95  21424965\n",
      "2016-12-21  116.80  117.40  116.78  117.06  23783165\n",
      "2016-12-22  116.35  116.51  115.64  116.29  26085854\n",
      "2016-12-23  115.59  116.52  115.59  116.52  14249484\n",
      "2016-12-27  116.52  117.80  116.49  117.26  18296855\n",
      "2016-12-28  117.52  118.02  116.20  116.76  20905892\n",
      "2016-12-29  116.45  117.11  116.40  116.73  15039519\n",
      "2016-12-30  116.65  117.20  115.43  115.82  30586265\n"
     ]
    }
   ],
   "source": [
    "singleStock = 'AAPL'\n",
    "\n",
    "# pick the periods to download datetime(year, month, day)\n",
    "\n",
    "start = datetime(2016,1,1)\n",
    "end = datetime(2016,12,31)\n",
    "\n",
    "# DataReader can feed source from 'yahoo', 'google', 'St.Louis FED', 'World bank'\n",
    "\n",
    "f = web.DataReader(singleStock, 'google', start, end)\n",
    "\n",
    "# print out the latest 10 rows\n",
    "print (f.tail(10))\n",
    "\n"
   ]
  },
  {
   "cell_type": "code",
   "execution_count": 3,
   "metadata": {},
   "outputs": [
    {
     "name": "stdout",
     "output_type": "stream",
     "text": [
      "          Date    Open    High     Low   Close    Volume\n",
      "247 2016-12-23  115.59  116.52  115.59  116.52  14249484\n",
      "248 2016-12-27  116.52  117.80  116.49  117.26  18296855\n",
      "249 2016-12-28  117.52  118.02  116.20  116.76  20905892\n",
      "250 2016-12-29  116.45  117.11  116.40  116.73  15039519\n",
      "251 2016-12-30  116.65  117.20  115.43  115.82  30586265\n",
      "          Date   Open   High    Low  Close    Volume\n",
      "247 2016-12-23  63.45  63.54  62.80  63.24  12403819\n",
      "248 2016-12-27  63.21  64.07  63.21  63.28  11763173\n",
      "249 2016-12-28  63.40  63.40  62.83  62.99  14653348\n",
      "250 2016-12-29  62.86  63.20  62.73  62.90  10250582\n",
      "251 2016-12-30  62.96  62.99  62.03  62.14  25579908\n",
      "          Date    Open    High     Low   Close   Volume\n",
      "247 2016-12-23  167.00  167.49  166.45  166.71  1701228\n",
      "248 2016-12-27  166.98  167.98  166.85  167.14  1397455\n",
      "249 2016-12-28  167.29  167.74  166.00  166.19  1757500\n",
      "250 2016-12-29  166.02  166.99  166.00  166.60  1663542\n",
      "251 2016-12-30  166.44  166.70  165.50  165.99  2952825\n"
     ]
    }
   ],
   "source": [
    "# Download mulitple stocks\n",
    "# method 1, create stock list\n",
    "#stocks = ['AAPL','MSFT','AMZN']\n",
    "\n",
    "# method 2, access stock list from files such as excel files\n",
    "stocks = read_excel('myStockList.xlsx', 'Sheet1', index_col=None, na_values=['NA'])\n",
    "\n",
    "# tips: beware the product name in different sources, and case sensitive\n",
    "#     ** change start and end date\n",
    "#     ** change destination file path e.g. C:/stocks.xls\n",
    "writer = ExcelWriter('stocks.xls')\n",
    "\n",
    "for each in stocks:\n",
    "#    download data as single stock\n",
    "#     ** change data source\n",
    "    f = web.DataReader(each, 'google', start, end)\n",
    "    \n",
    "#    reset the index before save to file\n",
    "    f = f.reset_index()\n",
    "#    select columns to be saved e.g. f.loc[:,[0,1,2,3,4]]\n",
    "#    default is all columns e.g. f.loc[:,::]\n",
    "\n",
    "#     ** select columns to be saved\n",
    "    fselect = f.loc[:,::]\n",
    "#    save data to stocks.xls and create sheet with sheet name = stock name in for loop\n",
    "#    Not saving the index col to file\n",
    "    fselect.to_excel(writer, sheet_name=each, index=False, header=1) #header = 1 keep title\n",
    "    \n",
    "writer.save()\n",
    "writer.close()\n",
    "    \n",
    "\n",
    "# To load data from excel e.g. C:/stocks.xls\n",
    "xls = ExcelFile('stocks.xls')\n",
    "\n",
    "# list comprehension to generate table handler\n",
    "f = [xls.parse(eachsheet) for eachsheet in xls.sheet_names]\n",
    "\n",
    "for x in f:\n",
    "    print (x.tail())\n"
   ]
  },
  {
   "cell_type": "code",
   "execution_count": 4,
   "metadata": {
    "collapsed": true
   },
   "outputs": [],
   "source": [
    "#     ** change file path e.g. C:/table.csv\n",
    "stocks = read_csv('table.csv') # list the stock names\n",
    "\n",
    "#     ** change start and end date\n",
    "start = datetime(2016,1,1)\n",
    "end = start + timedelta(180)\n"
   ]
  },
  {
   "cell_type": "code",
   "execution_count": 5,
   "metadata": {
    "collapsed": true
   },
   "outputs": [],
   "source": [
    "# create a error list to store in stocks cannot be downloaded\n",
    "errorlist = list()\n",
    "\n",
    "#     ** change file path e.g. C:/priceTable.xls\n",
    "writer = ExcelWriter('priceTable.xls')\n",
    "for each in stocks.head(20):\n",
    "#    download data as single stock\n",
    "# In order to catch any exception terminated by google, \n",
    "# use try-except-else for program so looping IO\n",
    "    try:\n",
    "    #         ** change data source\n",
    "        f = web.DataReader(each, 'google', start, end)\n",
    "        \n",
    "    except:\n",
    "#        print out stock table do not valid in specific date\n",
    "        print ('No such data %s' % str(each))\n",
    "        errorlist.append(each)\n",
    "        \n",
    "    else:\n",
    "    #    reset the index before save to file\n",
    "        f = f.reset_index()\n",
    "#    select columns to be saved e.g. f.ix[:,[0,1,2,3,4]]\n",
    "#    default is all columns e.g. f.ix[:,::]\n",
    "#     ** select columns to be saved\n",
    "    fselect = f.loc[:,::]\n",
    "    #    save data to stocks.xls and create sheet with sheet name = stock name in for loop\n",
    "    #    Not saving the index col to file e.g. index=False\n",
    "    fselect.to_excel(writer, sheet_name=each, index=False, header=1)\n",
    "    writer.save()\n",
    "writer.close()\n"
   ]
  },
  {
   "cell_type": "code",
   "execution_count": 6,
   "metadata": {},
   "outputs": [
    {
     "name": "stdout",
     "output_type": "stream",
     "text": [
      "['AAPL', 'MSFT', 'AMZN', 'IBM']\n"
     ]
    }
   ],
   "source": [
    "# print out the data stored in Excel file\n",
    "#     ** change file path e.g. C:/priceTable.xls\n",
    "xls = ExcelFile('priceTable.xls')\n",
    "print (xls.sheet_names) #print sheet name\n"
   ]
  },
  {
   "cell_type": "code",
   "execution_count": 7,
   "metadata": {},
   "outputs": [
    {
     "data": {
      "text/html": [
       "<div>\n",
       "<style>\n",
       "    .dataframe thead tr:only-child th {\n",
       "        text-align: right;\n",
       "    }\n",
       "\n",
       "    .dataframe thead th {\n",
       "        text-align: left;\n",
       "    }\n",
       "\n",
       "    .dataframe tbody tr th {\n",
       "        vertical-align: top;\n",
       "    }\n",
       "</style>\n",
       "<table border=\"1\" class=\"dataframe\">\n",
       "  <thead>\n",
       "    <tr style=\"text-align: right;\">\n",
       "      <th></th>\n",
       "      <th>Date</th>\n",
       "      <th>Open</th>\n",
       "      <th>High</th>\n",
       "      <th>Low</th>\n",
       "      <th>Close</th>\n",
       "      <th>Volume</th>\n",
       "    </tr>\n",
       "  </thead>\n",
       "  <tbody>\n",
       "    <tr>\n",
       "      <th>114</th>\n",
       "      <td>2016-06-16</td>\n",
       "      <td>96.45</td>\n",
       "      <td>97.75</td>\n",
       "      <td>96.07</td>\n",
       "      <td>97.55</td>\n",
       "      <td>31326815</td>\n",
       "    </tr>\n",
       "    <tr>\n",
       "      <th>115</th>\n",
       "      <td>2016-06-17</td>\n",
       "      <td>96.62</td>\n",
       "      <td>96.65</td>\n",
       "      <td>95.30</td>\n",
       "      <td>95.33</td>\n",
       "      <td>61008219</td>\n",
       "    </tr>\n",
       "    <tr>\n",
       "      <th>116</th>\n",
       "      <td>2016-06-20</td>\n",
       "      <td>96.00</td>\n",
       "      <td>96.57</td>\n",
       "      <td>95.03</td>\n",
       "      <td>95.10</td>\n",
       "      <td>34411901</td>\n",
       "    </tr>\n",
       "    <tr>\n",
       "      <th>117</th>\n",
       "      <td>2016-06-21</td>\n",
       "      <td>94.94</td>\n",
       "      <td>96.35</td>\n",
       "      <td>94.68</td>\n",
       "      <td>95.91</td>\n",
       "      <td>35546358</td>\n",
       "    </tr>\n",
       "    <tr>\n",
       "      <th>118</th>\n",
       "      <td>2016-06-22</td>\n",
       "      <td>96.25</td>\n",
       "      <td>96.89</td>\n",
       "      <td>95.35</td>\n",
       "      <td>95.55</td>\n",
       "      <td>29219122</td>\n",
       "    </tr>\n",
       "    <tr>\n",
       "      <th>119</th>\n",
       "      <td>2016-06-23</td>\n",
       "      <td>95.94</td>\n",
       "      <td>96.29</td>\n",
       "      <td>95.25</td>\n",
       "      <td>96.10</td>\n",
       "      <td>32240187</td>\n",
       "    </tr>\n",
       "    <tr>\n",
       "      <th>120</th>\n",
       "      <td>2016-06-24</td>\n",
       "      <td>92.91</td>\n",
       "      <td>94.66</td>\n",
       "      <td>92.65</td>\n",
       "      <td>93.40</td>\n",
       "      <td>75311356</td>\n",
       "    </tr>\n",
       "    <tr>\n",
       "      <th>121</th>\n",
       "      <td>2016-06-27</td>\n",
       "      <td>93.00</td>\n",
       "      <td>93.05</td>\n",
       "      <td>91.50</td>\n",
       "      <td>92.04</td>\n",
       "      <td>46622188</td>\n",
       "    </tr>\n",
       "    <tr>\n",
       "      <th>122</th>\n",
       "      <td>2016-06-28</td>\n",
       "      <td>92.90</td>\n",
       "      <td>93.66</td>\n",
       "      <td>92.14</td>\n",
       "      <td>93.59</td>\n",
       "      <td>40444914</td>\n",
       "    </tr>\n",
       "    <tr>\n",
       "      <th>123</th>\n",
       "      <td>2016-06-29</td>\n",
       "      <td>93.97</td>\n",
       "      <td>94.55</td>\n",
       "      <td>93.63</td>\n",
       "      <td>94.40</td>\n",
       "      <td>36531006</td>\n",
       "    </tr>\n",
       "  </tbody>\n",
       "</table>\n",
       "</div>"
      ],
      "text/plain": [
       "          Date   Open   High    Low  Close    Volume\n",
       "114 2016-06-16  96.45  97.75  96.07  97.55  31326815\n",
       "115 2016-06-17  96.62  96.65  95.30  95.33  61008219\n",
       "116 2016-06-20  96.00  96.57  95.03  95.10  34411901\n",
       "117 2016-06-21  94.94  96.35  94.68  95.91  35546358\n",
       "118 2016-06-22  96.25  96.89  95.35  95.55  29219122\n",
       "119 2016-06-23  95.94  96.29  95.25  96.10  32240187\n",
       "120 2016-06-24  92.91  94.66  92.65  93.40  75311356\n",
       "121 2016-06-27  93.00  93.05  91.50  92.04  46622188\n",
       "122 2016-06-28  92.90  93.66  92.14  93.59  40444914\n",
       "123 2016-06-29  93.97  94.55  93.63  94.40  36531006"
      ]
     },
     "execution_count": 7,
     "metadata": {},
     "output_type": "execute_result"
    }
   ],
   "source": [
    "# A nice presentation\n",
    "xls.parse('AAPL').tail(10)"
   ]
  },
  {
   "cell_type": "code",
   "execution_count": 8,
   "metadata": {
    "collapsed": true
   },
   "outputs": [],
   "source": [
    "\n"
   ]
  }
 ],
 "metadata": {
  "kernelspec": {
   "display_name": "Python 3",
   "language": "python",
   "name": "python3"
  },
  "language_info": {
   "codemirror_mode": {
    "name": "ipython",
    "version": 3
   },
   "file_extension": ".py",
   "mimetype": "text/x-python",
   "name": "python",
   "nbconvert_exporter": "python",
   "pygments_lexer": "ipython3",
   "version": "3.6.1"
  }
 },
 "nbformat": 4,
 "nbformat_minor": 1
}
