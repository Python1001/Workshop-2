{
 "cells": [
  {
   "cell_type": "code",
   "execution_count": 1,
   "metadata": {
    "collapsed": true
   },
   "outputs": [],
   "source": [
    "import pandas_datareader as web\n",
    "import datetime as dt\n"
   ]
  },
  {
   "cell_type": "code",
   "execution_count": 2,
   "metadata": {
    "collapsed": true
   },
   "outputs": [],
   "source": [
    "#Define start date, end date, data table\n",
    "start = dt.datetime(2016,7,1)\n",
    "end = dt.datetime(2018,1,14)\n"
   ]
  },
  {
   "cell_type": "code",
   "execution_count": 3,
   "metadata": {},
   "outputs": [
    {
     "name": "stdout",
     "output_type": "stream",
     "text": [
      "5y\n"
     ]
    }
   ],
   "source": [
    "f = web.DataReader('FB', 'iex', start, end)"
   ]
  },
  {
   "cell_type": "code",
   "execution_count": 4,
   "metadata": {},
   "outputs": [
    {
     "data": {
      "text/html": [
       "<div>\n",
       "<style>\n",
       "    .dataframe thead tr:only-child th {\n",
       "        text-align: right;\n",
       "    }\n",
       "\n",
       "    .dataframe thead th {\n",
       "        text-align: left;\n",
       "    }\n",
       "\n",
       "    .dataframe tbody tr th {\n",
       "        vertical-align: top;\n",
       "    }\n",
       "</style>\n",
       "<table border=\"1\" class=\"dataframe\">\n",
       "  <thead>\n",
       "    <tr style=\"text-align: right;\">\n",
       "      <th></th>\n",
       "      <th>open</th>\n",
       "      <th>high</th>\n",
       "      <th>low</th>\n",
       "      <th>close</th>\n",
       "      <th>volume</th>\n",
       "    </tr>\n",
       "    <tr>\n",
       "      <th>date</th>\n",
       "      <th></th>\n",
       "      <th></th>\n",
       "      <th></th>\n",
       "      <th></th>\n",
       "      <th></th>\n",
       "    </tr>\n",
       "  </thead>\n",
       "  <tbody>\n",
       "    <tr>\n",
       "      <th>2016-07-01</th>\n",
       "      <td>114.20</td>\n",
       "      <td>115.13</td>\n",
       "      <td>113.81</td>\n",
       "      <td>114.19</td>\n",
       "      <td>14980023</td>\n",
       "    </tr>\n",
       "    <tr>\n",
       "      <th>2016-07-05</th>\n",
       "      <td>113.94</td>\n",
       "      <td>114.11</td>\n",
       "      <td>112.97</td>\n",
       "      <td>114.00</td>\n",
       "      <td>14207037</td>\n",
       "    </tr>\n",
       "    <tr>\n",
       "      <th>2016-07-06</th>\n",
       "      <td>113.36</td>\n",
       "      <td>116.79</td>\n",
       "      <td>112.97</td>\n",
       "      <td>116.70</td>\n",
       "      <td>24337586</td>\n",
       "    </tr>\n",
       "    <tr>\n",
       "      <th>2016-07-07</th>\n",
       "      <td>116.63</td>\n",
       "      <td>116.97</td>\n",
       "      <td>115.36</td>\n",
       "      <td>115.85</td>\n",
       "      <td>16630201</td>\n",
       "    </tr>\n",
       "    <tr>\n",
       "      <th>2016-07-08</th>\n",
       "      <td>116.43</td>\n",
       "      <td>117.50</td>\n",
       "      <td>115.85</td>\n",
       "      <td>117.24</td>\n",
       "      <td>18142597</td>\n",
       "    </tr>\n",
       "  </tbody>\n",
       "</table>\n",
       "</div>"
      ],
      "text/plain": [
       "              open    high     low   close    volume\n",
       "date                                                \n",
       "2016-07-01  114.20  115.13  113.81  114.19  14980023\n",
       "2016-07-05  113.94  114.11  112.97  114.00  14207037\n",
       "2016-07-06  113.36  116.79  112.97  116.70  24337586\n",
       "2016-07-07  116.63  116.97  115.36  115.85  16630201\n",
       "2016-07-08  116.43  117.50  115.85  117.24  18142597"
      ]
     },
     "execution_count": 4,
     "metadata": {},
     "output_type": "execute_result"
    }
   ],
   "source": [
    "f.head(5)"
   ]
  },
  {
   "cell_type": "code",
   "execution_count": 5,
   "metadata": {},
   "outputs": [
    {
     "data": {
      "text/plain": [
       "date\n",
       "2016-07-01    114.19\n",
       "2016-07-05    114.00\n",
       "2016-07-06    116.70\n",
       "2016-07-07    115.85\n",
       "2016-07-08    117.24\n",
       "2016-07-11    117.87\n",
       "2016-07-12    117.93\n",
       "2016-07-13    116.78\n",
       "2016-07-14    117.29\n",
       "2016-07-15    116.86\n",
       "2016-07-18    119.37\n",
       "2016-07-19    120.61\n",
       "2016-07-20    121.92\n",
       "2016-07-21    120.61\n",
       "2016-07-22    121.00\n",
       "2016-07-25    121.63\n",
       "2016-07-26    121.22\n",
       "2016-07-27    123.34\n",
       "2016-07-28    125.00\n",
       "2016-07-29    123.94\n",
       "2016-08-01    124.31\n",
       "2016-08-02    123.09\n",
       "2016-08-03    122.51\n",
       "2016-08-04    124.36\n",
       "2016-08-05    125.15\n",
       "2016-08-08    125.26\n",
       "2016-08-09    125.06\n",
       "2016-08-10    124.88\n",
       "2016-08-11    124.90\n",
       "2016-08-12    124.88\n",
       "               ...  \n",
       "2017-11-30    177.18\n",
       "2017-12-01    175.10\n",
       "2017-12-04    171.47\n",
       "2017-12-05    172.83\n",
       "2017-12-06    176.06\n",
       "2017-12-07    180.14\n",
       "2017-12-08    179.00\n",
       "2017-12-11    179.04\n",
       "2017-12-12    176.96\n",
       "2017-12-13    178.30\n",
       "2017-12-14    178.39\n",
       "2017-12-15    180.18\n",
       "2017-12-18    180.82\n",
       "2017-12-19    179.51\n",
       "2017-12-20    177.89\n",
       "2017-12-21    177.45\n",
       "2017-12-22    177.20\n",
       "2017-12-26    175.99\n",
       "2017-12-27    177.62\n",
       "2017-12-28    177.92\n",
       "2017-12-29    176.46\n",
       "2018-01-02    181.42\n",
       "2018-01-03    184.67\n",
       "2018-01-04    184.33\n",
       "2018-01-05    186.85\n",
       "2018-01-08    188.28\n",
       "2018-01-09    187.87\n",
       "2018-01-10    187.84\n",
       "2018-01-11    187.77\n",
       "2018-01-12    179.37\n",
       "Name: close, Length: 387, dtype: float64"
      ]
     },
     "execution_count": 5,
     "metadata": {},
     "output_type": "execute_result"
    }
   ],
   "source": [
    "f['close']"
   ]
  },
  {
   "cell_type": "code",
   "execution_count": 6,
   "metadata": {},
   "outputs": [
    {
     "data": {
      "text/html": [
       "<div>\n",
       "<style>\n",
       "    .dataframe thead tr:only-child th {\n",
       "        text-align: right;\n",
       "    }\n",
       "\n",
       "    .dataframe thead th {\n",
       "        text-align: left;\n",
       "    }\n",
       "\n",
       "    .dataframe tbody tr th {\n",
       "        vertical-align: top;\n",
       "    }\n",
       "</style>\n",
       "<table border=\"1\" class=\"dataframe\">\n",
       "  <thead>\n",
       "    <tr style=\"text-align: right;\">\n",
       "      <th></th>\n",
       "      <th>open</th>\n",
       "      <th>high</th>\n",
       "      <th>low</th>\n",
       "      <th>close</th>\n",
       "      <th>volume</th>\n",
       "    </tr>\n",
       "    <tr>\n",
       "      <th>date</th>\n",
       "      <th></th>\n",
       "      <th></th>\n",
       "      <th></th>\n",
       "      <th></th>\n",
       "      <th></th>\n",
       "    </tr>\n",
       "  </thead>\n",
       "  <tbody>\n",
       "    <tr>\n",
       "      <th>2018-01-08</th>\n",
       "      <td>187.20</td>\n",
       "      <td>188.90</td>\n",
       "      <td>186.33</td>\n",
       "      <td>188.28</td>\n",
       "      <td>17994726</td>\n",
       "    </tr>\n",
       "    <tr>\n",
       "      <th>2018-01-09</th>\n",
       "      <td>188.70</td>\n",
       "      <td>188.80</td>\n",
       "      <td>187.10</td>\n",
       "      <td>187.87</td>\n",
       "      <td>12393057</td>\n",
       "    </tr>\n",
       "    <tr>\n",
       "      <th>2018-01-10</th>\n",
       "      <td>186.94</td>\n",
       "      <td>187.89</td>\n",
       "      <td>185.63</td>\n",
       "      <td>187.84</td>\n",
       "      <td>10529894</td>\n",
       "    </tr>\n",
       "    <tr>\n",
       "      <th>2018-01-11</th>\n",
       "      <td>188.40</td>\n",
       "      <td>188.40</td>\n",
       "      <td>187.38</td>\n",
       "      <td>187.77</td>\n",
       "      <td>9588587</td>\n",
       "    </tr>\n",
       "    <tr>\n",
       "      <th>2018-01-12</th>\n",
       "      <td>178.06</td>\n",
       "      <td>181.48</td>\n",
       "      <td>177.40</td>\n",
       "      <td>179.37</td>\n",
       "      <td>77551299</td>\n",
       "    </tr>\n",
       "  </tbody>\n",
       "</table>\n",
       "</div>"
      ],
      "text/plain": [
       "              open    high     low   close    volume\n",
       "date                                                \n",
       "2018-01-08  187.20  188.90  186.33  188.28  17994726\n",
       "2018-01-09  188.70  188.80  187.10  187.87  12393057\n",
       "2018-01-10  186.94  187.89  185.63  187.84  10529894\n",
       "2018-01-11  188.40  188.40  187.38  187.77   9588587\n",
       "2018-01-12  178.06  181.48  177.40  179.37  77551299"
      ]
     },
     "execution_count": 6,
     "metadata": {},
     "output_type": "execute_result"
    }
   ],
   "source": [
    "f.tail(5)"
   ]
  },
  {
   "cell_type": "code",
   "execution_count": 7,
   "metadata": {},
   "outputs": [
    {
     "data": {
      "text/plain": [
       "date\n",
       "2016-07-01    14980023\n",
       "2016-07-05    14207037\n",
       "2016-07-06    24337586\n",
       "2016-07-07    16630201\n",
       "2016-07-08    18142597\n",
       "2016-07-11    17711570\n",
       "2016-07-12    15217700\n",
       "2016-07-13    16207662\n",
       "2016-07-14    14579736\n",
       "2016-07-15    16645964\n",
       "2016-07-18    20868367\n",
       "2016-07-19    21541292\n",
       "2016-07-20    20046452\n",
       "2016-07-21    17801663\n",
       "2016-07-22    18422410\n",
       "2016-07-25    18487449\n",
       "2016-07-26    17611964\n",
       "2016-07-27    52654239\n",
       "2016-07-28    78955758\n",
       "2016-07-29    35058803\n",
       "2016-08-01    25006850\n",
       "2016-08-02    23968414\n",
       "2016-08-03    18525332\n",
       "2016-08-04    21065974\n",
       "2016-08-05    20184035\n",
       "2016-08-08    15233929\n",
       "2016-08-09    19620967\n",
       "2016-08-10    10670148\n",
       "2016-08-11    11729519\n",
       "2016-08-12    12158955\n",
       "                ...   \n",
       "2017-11-30    25307601\n",
       "2017-12-01    20182523\n",
       "2017-12-04    24459422\n",
       "2017-12-05    20184908\n",
       "2017-12-06    20255846\n",
       "2017-12-07    20404533\n",
       "2017-12-08    19883764\n",
       "2017-12-11    13168575\n",
       "2017-12-12    16854098\n",
       "2017-12-13    14615718\n",
       "2017-12-14    13590999\n",
       "2017-12-15    28463101\n",
       "2017-12-18    17265376\n",
       "2017-12-19    14920582\n",
       "2017-12-20    11860497\n",
       "2017-12-21    11600700\n",
       "2017-12-22     8509451\n",
       "2017-12-26     8897286\n",
       "2017-12-27     9496071\n",
       "2017-12-28    12220760\n",
       "2017-12-29    10261456\n",
       "2018-01-02    18151903\n",
       "2018-01-03    16886563\n",
       "2018-01-04    13880896\n",
       "2018-01-05    13574535\n",
       "2018-01-08    17994726\n",
       "2018-01-09    12393057\n",
       "2018-01-10    10529894\n",
       "2018-01-11     9588587\n",
       "2018-01-12    77551299\n",
       "Name: volume, Length: 387, dtype: int64"
      ]
     },
     "execution_count": 7,
     "metadata": {},
     "output_type": "execute_result"
    }
   ],
   "source": [
    "f['volume']"
   ]
  },
  {
   "cell_type": "code",
   "execution_count": null,
   "metadata": {
    "collapsed": true
   },
   "outputs": [],
   "source": []
  }
 ],
 "metadata": {
  "kernelspec": {
   "display_name": "Python 3",
   "language": "python",
   "name": "python3"
  },
  "language_info": {
   "codemirror_mode": {
    "name": "ipython",
    "version": 3
   },
   "file_extension": ".py",
   "mimetype": "text/x-python",
   "name": "python",
   "nbconvert_exporter": "python",
   "pygments_lexer": "ipython3",
   "version": "3.6.2"
  }
 },
 "nbformat": 4,
 "nbformat_minor": 1
}
