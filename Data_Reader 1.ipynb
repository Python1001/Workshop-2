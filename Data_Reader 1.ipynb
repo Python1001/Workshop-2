{
 "cells": [
  {
   "cell_type": "code",
   "execution_count": 1,
   "metadata": {
    "collapsed": true
   },
   "outputs": [],
   "source": [
    "import pandas_datareader as web\n",
    "import datetime as dt\n"
   ]
  },
  {
   "cell_type": "code",
   "execution_count": 2,
   "metadata": {
    "collapsed": true
   },
   "outputs": [],
   "source": [
    "#Define start date, end date, data table\n",
    "start = dt.datetime(2001,7,1)\n",
    "end = dt.datetime(2016,10,14)\n"
   ]
  },
  {
   "cell_type": "code",
   "execution_count": 3,
   "metadata": {
    "collapsed": true
   },
   "outputs": [],
   "source": [
    "f = web.DataReader(\"AAPL\", 'yahoo', start, end)"
   ]
  },
  {
   "cell_type": "code",
   "execution_count": 4,
   "metadata": {},
   "outputs": [
    {
     "data": {
      "text/html": [
       "<div>\n",
       "<style scoped>\n",
       "    .dataframe tbody tr th:only-of-type {\n",
       "        vertical-align: middle;\n",
       "    }\n",
       "\n",
       "    .dataframe tbody tr th {\n",
       "        vertical-align: top;\n",
       "    }\n",
       "\n",
       "    .dataframe thead th {\n",
       "        text-align: right;\n",
       "    }\n",
       "</style>\n",
       "<table border=\"1\" class=\"dataframe\">\n",
       "  <thead>\n",
       "    <tr style=\"text-align: right;\">\n",
       "      <th></th>\n",
       "      <th>Open</th>\n",
       "      <th>High</th>\n",
       "      <th>Low</th>\n",
       "      <th>Close</th>\n",
       "      <th>Adj Close</th>\n",
       "      <th>Volume</th>\n",
       "    </tr>\n",
       "    <tr>\n",
       "      <th>Date</th>\n",
       "      <th></th>\n",
       "      <th></th>\n",
       "      <th></th>\n",
       "      <th></th>\n",
       "      <th></th>\n",
       "      <th></th>\n",
       "    </tr>\n",
       "  </thead>\n",
       "  <tbody>\n",
       "    <tr>\n",
       "      <th>2001-07-02</th>\n",
       "      <td>1.688571</td>\n",
       "      <td>1.730714</td>\n",
       "      <td>1.652857</td>\n",
       "      <td>1.707143</td>\n",
       "      <td>1.147199</td>\n",
       "      <td>57512000</td>\n",
       "    </tr>\n",
       "    <tr>\n",
       "      <th>2001-07-03</th>\n",
       "      <td>1.679286</td>\n",
       "      <td>1.727143</td>\n",
       "      <td>1.678571</td>\n",
       "      <td>1.702857</td>\n",
       "      <td>1.144319</td>\n",
       "      <td>28135800</td>\n",
       "    </tr>\n",
       "    <tr>\n",
       "      <th>2001-07-05</th>\n",
       "      <td>1.685714</td>\n",
       "      <td>1.697857</td>\n",
       "      <td>1.643571</td>\n",
       "      <td>1.656429</td>\n",
       "      <td>1.113119</td>\n",
       "      <td>38073000</td>\n",
       "    </tr>\n",
       "    <tr>\n",
       "      <th>2001-07-06</th>\n",
       "      <td>1.625714</td>\n",
       "      <td>1.640000</td>\n",
       "      <td>1.551429</td>\n",
       "      <td>1.573571</td>\n",
       "      <td>1.057439</td>\n",
       "      <td>75730200</td>\n",
       "    </tr>\n",
       "    <tr>\n",
       "      <th>2001-07-09</th>\n",
       "      <td>1.577857</td>\n",
       "      <td>1.642857</td>\n",
       "      <td>1.548571</td>\n",
       "      <td>1.621429</td>\n",
       "      <td>1.089599</td>\n",
       "      <td>84366800</td>\n",
       "    </tr>\n",
       "  </tbody>\n",
       "</table>\n",
       "</div>"
      ],
      "text/plain": [
       "                Open      High       Low     Close  Adj Close    Volume\n",
       "Date                                                                   \n",
       "2001-07-02  1.688571  1.730714  1.652857  1.707143   1.147199  57512000\n",
       "2001-07-03  1.679286  1.727143  1.678571  1.702857   1.144319  28135800\n",
       "2001-07-05  1.685714  1.697857  1.643571  1.656429   1.113119  38073000\n",
       "2001-07-06  1.625714  1.640000  1.551429  1.573571   1.057439  75730200\n",
       "2001-07-09  1.577857  1.642857  1.548571  1.621429   1.089599  84366800"
      ]
     },
     "execution_count": 4,
     "metadata": {},
     "output_type": "execute_result"
    }
   ],
   "source": [
    "f.head(5)"
   ]
  },
  {
   "cell_type": "code",
   "execution_count": 5,
   "metadata": {},
   "outputs": [
    {
     "data": {
      "text/plain": [
       "Date\n",
       "2001-07-02      1.707143\n",
       "2001-07-03      1.702857\n",
       "2001-07-05      1.656429\n",
       "2001-07-06      1.573571\n",
       "2001-07-09      1.621429\n",
       "2001-07-10      1.510000\n",
       "2001-07-11      1.610000\n",
       "2001-07-12      1.740000\n",
       "2001-07-13      1.775000\n",
       "2001-07-16      1.711429\n",
       "2001-07-17      1.792857\n",
       "2001-07-18      1.485000\n",
       "2001-07-19      1.425714\n",
       "2001-07-20      1.427143\n",
       "2001-07-23      1.395714\n",
       "2001-07-24      1.363571\n",
       "2001-07-25      1.319286\n",
       "2001-07-26      1.327857\n",
       "2001-07-27      1.354286\n",
       "2001-07-30      1.352143\n",
       "2001-07-31      1.342143\n",
       "2001-08-01      1.361429\n",
       "2001-08-02      1.415714\n",
       "2001-08-03      1.392857\n",
       "2001-08-06      1.366429\n",
       "2001-08-07      1.375000\n",
       "2001-08-08      1.350000\n",
       "2001-08-09      1.360714\n",
       "2001-08-10      1.358571\n",
       "2001-08-13      1.363571\n",
       "                 ...    \n",
       "2016-09-02    107.730003\n",
       "2016-09-06    107.699997\n",
       "2016-09-07    108.360001\n",
       "2016-09-08    105.519997\n",
       "2016-09-09    103.129997\n",
       "2016-09-12    105.440002\n",
       "2016-09-13    107.949997\n",
       "2016-09-14    111.769997\n",
       "2016-09-15    115.570000\n",
       "2016-09-16    114.919998\n",
       "2016-09-19    113.580002\n",
       "2016-09-20    113.570000\n",
       "2016-09-21    113.550003\n",
       "2016-09-22    114.620003\n",
       "2016-09-23    112.709999\n",
       "2016-09-26    112.879997\n",
       "2016-09-27    113.089996\n",
       "2016-09-28    113.949997\n",
       "2016-09-29    112.180000\n",
       "2016-09-30    113.050003\n",
       "2016-10-03    112.519997\n",
       "2016-10-04    113.000000\n",
       "2016-10-05    113.050003\n",
       "2016-10-06    113.889999\n",
       "2016-10-07    114.059998\n",
       "2016-10-10    116.050003\n",
       "2016-10-11    116.300003\n",
       "2016-10-12    117.339996\n",
       "2016-10-13    116.980003\n",
       "2016-10-14    117.629997\n",
       "Name: Close, Length: 3847, dtype: float64"
      ]
     },
     "execution_count": 5,
     "metadata": {},
     "output_type": "execute_result"
    }
   ],
   "source": [
    "f['Close']"
   ]
  },
  {
   "cell_type": "code",
   "execution_count": null,
   "metadata": {
    "collapsed": true
   },
   "outputs": [],
   "source": []
  }
 ],
 "metadata": {
  "kernelspec": {
   "display_name": "Python 3",
   "language": "python",
   "name": "python3"
  },
  "language_info": {
   "codemirror_mode": {
    "name": "ipython",
    "version": 3
   },
   "file_extension": ".py",
   "mimetype": "text/x-python",
   "name": "python",
   "nbconvert_exporter": "python",
   "pygments_lexer": "ipython3",
   "version": "3.6.2"
  }
 },
 "nbformat": 4,
 "nbformat_minor": 1
}
