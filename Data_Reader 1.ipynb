{
 "cells": [
  {
   "cell_type": "code",
   "execution_count": 1,
   "metadata": {
    "collapsed": true
   },
   "outputs": [],
   "source": [
    "import pandas_datareader as web\n",
    "import datetime as dt\n",
    "#Draw graph\n",
    "import matplotlib.pyplot as plt\n",
    "#Display Graph\n",
    "%matplotlib inline"
   ]
  },
  {
   "cell_type": "code",
   "execution_count": 2,
   "metadata": {
    "collapsed": true
   },
   "outputs": [],
   "source": [
    "#Define start date, end date, data table\n",
    "start = dt.datetime(2001,7,1)\n",
    "end = dt.datetime(2016,10,14)\n"
   ]
  },
  {
   "cell_type": "code",
   "execution_count": 3,
   "metadata": {
    "collapsed": true
   },
   "outputs": [],
   "source": [
    "f = web.DataReader(\"AAPL\", 'google', start, end)"
   ]
  },
  {
   "cell_type": "code",
   "execution_count": 4,
   "metadata": {},
   "outputs": [
    {
     "data": {
      "text/html": [
       "<div>\n",
       "<style>\n",
       "    .dataframe thead tr:only-child th {\n",
       "        text-align: right;\n",
       "    }\n",
       "\n",
       "    .dataframe thead th {\n",
       "        text-align: left;\n",
       "    }\n",
       "\n",
       "    .dataframe tbody tr th {\n",
       "        vertical-align: top;\n",
       "    }\n",
       "</style>\n",
       "<table border=\"1\" class=\"dataframe\">\n",
       "  <thead>\n",
       "    <tr style=\"text-align: right;\">\n",
       "      <th></th>\n",
       "      <th>Open</th>\n",
       "      <th>High</th>\n",
       "      <th>Low</th>\n",
       "      <th>Close</th>\n",
       "      <th>Volume</th>\n",
       "    </tr>\n",
       "    <tr>\n",
       "      <th>Date</th>\n",
       "      <th></th>\n",
       "      <th></th>\n",
       "      <th></th>\n",
       "      <th></th>\n",
       "      <th></th>\n",
       "    </tr>\n",
       "  </thead>\n",
       "  <tbody>\n",
       "    <tr>\n",
       "      <th>2001-07-02</th>\n",
       "      <td>1.69</td>\n",
       "      <td>1.73</td>\n",
       "      <td>1.65</td>\n",
       "      <td>1.71</td>\n",
       "      <td>56232400</td>\n",
       "    </tr>\n",
       "    <tr>\n",
       "      <th>2001-07-03</th>\n",
       "      <td>1.69</td>\n",
       "      <td>1.73</td>\n",
       "      <td>1.68</td>\n",
       "      <td>1.70</td>\n",
       "      <td>27631800</td>\n",
       "    </tr>\n",
       "    <tr>\n",
       "      <th>2001-07-05</th>\n",
       "      <td>1.69</td>\n",
       "      <td>1.70</td>\n",
       "      <td>1.64</td>\n",
       "      <td>1.66</td>\n",
       "      <td>35865200</td>\n",
       "    </tr>\n",
       "    <tr>\n",
       "      <th>2001-07-06</th>\n",
       "      <td>1.63</td>\n",
       "      <td>1.64</td>\n",
       "      <td>1.55</td>\n",
       "      <td>1.57</td>\n",
       "      <td>71285200</td>\n",
       "    </tr>\n",
       "    <tr>\n",
       "      <th>2001-07-09</th>\n",
       "      <td>1.58</td>\n",
       "      <td>1.64</td>\n",
       "      <td>1.55</td>\n",
       "      <td>1.62</td>\n",
       "      <td>83522600</td>\n",
       "    </tr>\n",
       "  </tbody>\n",
       "</table>\n",
       "</div>"
      ],
      "text/plain": [
       "            Open  High   Low  Close    Volume\n",
       "Date                                         \n",
       "2001-07-02  1.69  1.73  1.65   1.71  56232400\n",
       "2001-07-03  1.69  1.73  1.68   1.70  27631800\n",
       "2001-07-05  1.69  1.70  1.64   1.66  35865200\n",
       "2001-07-06  1.63  1.64  1.55   1.57  71285200\n",
       "2001-07-09  1.58  1.64  1.55   1.62  83522600"
      ]
     },
     "execution_count": 4,
     "metadata": {},
     "output_type": "execute_result"
    }
   ],
   "source": [
    "f.head(5)"
   ]
  },
  {
   "cell_type": "code",
   "execution_count": 5,
   "metadata": {},
   "outputs": [
    {
     "data": {
      "text/plain": [
       "Date\n",
       "2001-07-02      1.71\n",
       "2001-07-03      1.70\n",
       "2001-07-05      1.66\n",
       "2001-07-06      1.57\n",
       "2001-07-09      1.62\n",
       "2001-07-10      1.51\n",
       "2001-07-11      1.61\n",
       "2001-07-12      1.74\n",
       "2001-07-13      1.78\n",
       "2001-07-16      1.71\n",
       "2001-07-17      1.79\n",
       "2001-07-18      1.48\n",
       "2001-07-19      1.43\n",
       "2001-07-20      1.43\n",
       "2001-07-23      1.40\n",
       "2001-07-24      1.36\n",
       "2001-07-25      1.32\n",
       "2001-07-26      1.33\n",
       "2001-07-27      1.35\n",
       "2001-07-30      1.35\n",
       "2001-07-31      1.34\n",
       "2001-08-01      1.36\n",
       "2001-08-02      1.42\n",
       "2001-08-03      1.39\n",
       "2001-08-06      1.37\n",
       "2001-08-07      1.38\n",
       "2001-08-08      1.35\n",
       "2001-08-09      1.36\n",
       "2001-08-10      1.36\n",
       "2001-08-13      1.36\n",
       "               ...  \n",
       "2016-09-02    107.73\n",
       "2016-09-06    107.70\n",
       "2016-09-07    108.36\n",
       "2016-09-08    105.52\n",
       "2016-09-09    103.13\n",
       "2016-09-12    105.44\n",
       "2016-09-13    107.95\n",
       "2016-09-14    111.77\n",
       "2016-09-15    115.57\n",
       "2016-09-16    114.92\n",
       "2016-09-19    113.58\n",
       "2016-09-20    113.57\n",
       "2016-09-21    113.55\n",
       "2016-09-22    114.62\n",
       "2016-09-23    112.71\n",
       "2016-09-26    112.88\n",
       "2016-09-27    113.09\n",
       "2016-09-28    113.95\n",
       "2016-09-29    112.18\n",
       "2016-09-30    113.05\n",
       "2016-10-03    112.52\n",
       "2016-10-04    113.00\n",
       "2016-10-05    113.05\n",
       "2016-10-06    113.89\n",
       "2016-10-07    114.06\n",
       "2016-10-10    116.05\n",
       "2016-10-11    116.30\n",
       "2016-10-12    117.34\n",
       "2016-10-13    116.98\n",
       "2016-10-14    117.63\n",
       "Name: Close, Length: 3846, dtype: float64"
      ]
     },
     "execution_count": 5,
     "metadata": {},
     "output_type": "execute_result"
    }
   ],
   "source": [
    "f['Close']"
   ]
  },
  {
   "cell_type": "code",
   "execution_count": null,
   "metadata": {
    "collapsed": true
   },
   "outputs": [],
   "source": []
  }
 ],
 "metadata": {
  "kernelspec": {
   "display_name": "Python 3",
   "language": "python",
   "name": "python3"
  },
  "language_info": {
   "codemirror_mode": {
    "name": "ipython",
    "version": 3
   },
   "file_extension": ".py",
   "mimetype": "text/x-python",
   "name": "python",
   "nbconvert_exporter": "python",
   "pygments_lexer": "ipython3",
   "version": "3.6.1"
  }
 },
 "nbformat": 4,
 "nbformat_minor": 1
}
